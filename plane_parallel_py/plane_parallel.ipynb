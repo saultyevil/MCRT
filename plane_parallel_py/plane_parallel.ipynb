{
 "cells": [
  {
   "cell_type": "markdown",
   "metadata": {},
   "source": [
    "# Planar Atmosphere"
   ]
  },
  {
   "cell_type": "markdown",
   "metadata": {},
   "source": [
    "MCRT simulation for a planar atmosphere. Photons are isotropically scattered, where every step a photon packet takes is a scattering event."
   ]
  },
  {
   "cell_type": "code",
   "execution_count": 1,
   "metadata": {},
   "outputs": [],
   "source": [
    "import timeit\n",
    "import numpy as np\n",
    "from matplotlib import pyplot as plt"
   ]
  },
  {
   "cell_type": "markdown",
   "metadata": {},
   "source": [
    "# Classes"
   ]
  },
  {
   "cell_type": "code",
   "execution_count": 2,
   "metadata": {},
   "outputs": [],
   "source": [
    "class Photon_Packet(object):\n",
    "\n",
    "    def __init__(self):\n",
    "        \"\"\"\n",
    "        Initalise the photon packet.\n",
    "        \"\"\"\n",
    "\n",
    "        self._coords = np.array([0, 0, 0], dtype=np.float)\n",
    "        self._costheta = np.sqrt(np.random.rand())\n",
    "        self._sintheta = np.sqrt(1 - self._costheta ** 2)\n",
    "        self._phi = 2 * np.pi * np.random.rand()\n",
    "        self._cosphi = np.cos(self._phi)\n",
    "        self._sinphi = np.sin(self._phi)\n",
    "        self._escaped = False\n",
    "\n",
    "    def _scatter_packet(self):\n",
    "        \"\"\"\n",
    "        Isotropic scattering of the photon packet, i.e. change the direction\n",
    "        it propagates.\n",
    "        \"\"\"\n",
    "\n",
    "        self._costheta = 2 * np.random.rand() - 1\n",
    "        self._sintheta = np.sqrt(1 - self._costheta ** 2)\n",
    "        self._phi = 2 * np.pi * np.random.rand()\n",
    "        self._cosphi = np.cos(self._phi)\n",
    "        self._sinphi = np.sin(self._phi)\n",
    "\n",
    "    def _transport_packet(self, tau_max, albedo):\n",
    "        \"\"\"\n",
    "        Transports the photon packets through the atmosphere.\n",
    "        \n",
    "        Parameters\n",
    "        ----------\n",
    "        tau_max: float.\n",
    "            The maximum optical depth in the atmosphere.\n",
    "        albedo: float.\n",
    "            The scattering probabilty. \n",
    "        \"\"\"\n",
    "\n",
    "        while self._coords[2] >= 0 and self._coords[2] <= 1:\n",
    "            # sample an optical depth and update the position of the packet\n",
    "            tau = -np.log(np.random.rand())\n",
    "            L = tau/tau_max\n",
    "            self._coords[0] += L * self._sintheta * self._cosphi\n",
    "            self._coords[1] += L * self._sintheta * self._sinphi\n",
    "            self._coords[2] += L * self._costheta\n",
    "\n",
    "            if np.random.rand() < albedo and self._coords[2] >= 0 and \\\n",
    "                    self._coords[2] <= 1:\n",
    "                self._scatter_packet()\n",
    "\n",
    "            # if z < 0, the photon has travelled deeper into the atmosphere\n",
    "            # and is lost, hence restart the photon\n",
    "            if self._coords[2] < 0:\n",
    "                self.__init__()\n",
    "\n",
    "            # if z > 1, the photon has escaped the atmosphere\n",
    "            if self._coords[2] > 1:\n",
    "                self._escaped = True"
   ]
  },
  {
   "cell_type": "markdown",
   "metadata": {},
   "source": [
    "# Functions"
   ]
  },
  {
   "cell_type": "code",
   "execution_count": 3,
   "metadata": {},
   "outputs": [],
   "source": [
    "def bin_photons(mu, mu_bins, n_photons):\n",
    "    \"\"\"\n",
    "    Bins the photons into corresponding angle bins corresponding to the\n",
    "    direction they left the atmosphere.\n",
    "\n",
    "    Parameters\n",
    "    ----------\n",
    "    mu: (1 x n_photons) array of floats.\n",
    "        The angle mu = cos(theta) for which the photon packets exited\n",
    "        the atmospehre.\n",
    "    mu_bins: integer.\n",
    "        The number of theta angles to bin for.\n",
    "    n_photons: integer.\n",
    "        The total number of photon packets.\n",
    "\n",
    "    Returns\n",
    "    -------\n",
    "    mu_hist: (1 x mu_bins) array of ints.\n",
    "        The number of photons packets which left the atmosphere at one\n",
    "        of the binned angles.\n",
    "    theta: (1 x mu_bins) array of floats.\n",
    "        The binned theta angles.\n",
    "    \"\"\"\n",
    "\n",
    "    theta = np.zeros(mu_bins)\n",
    "    mu_hist = np.zeros(mu_bins)\n",
    "\n",
    "    # calculate the binned theta angles\n",
    "    dtheta = 1/mu_bins\n",
    "    half_width = 0.5 * dtheta  # see kenny wood's code for half_width...?\n",
    "    for i in range(mu_bins):\n",
    "        theta[i] = np.arccos(i * dtheta + half_width) * (180/np.pi)\n",
    "\n",
    "    # bin the mu = cos(theta) angles for each photon accordingly\n",
    "    for i in range(n_photons):\n",
    "        j = abs(int(mu[i] * mu_bins))\n",
    "        mu_hist[j] = mu_hist[j] + 1\n",
    "\n",
    "    return mu_hist, theta\n",
    "\n",
    "\n",
    "def photon_moments(mu_bins, mu_hist, theta):\n",
    "    \"\"\"\n",
    "    Calculate the mean intensity for the bin angles.\n",
    "\n",
    "    Parameters\n",
    "    ----------\n",
    "    mu_bins: integer.\n",
    "        The number of theta angle bins.\n",
    "    mu_hist: (1 x mu_bins) array of ints.\n",
    "        The number of photons packets which left the atmosphere at one\n",
    "        of the binned angles.\n",
    "    theta: (1 x mu_bins) array of floats.\n",
    "        The binned theta angles.\n",
    "\n",
    "    Returns\n",
    "    -------\n",
    "    intensity: (1 x mu_bins) array of floats.\n",
    "        The intensity estimated via the number of photon for each binned angle.\n",
    "    \"\"\"\n",
    "\n",
    "    intensity = np.zeros(mu_bins)\n",
    "    for i in range(mu_bins):\n",
    "        intensity[i] = (mu_hist[i] * mu_bins)/(2 * np.sum(mu_hist) *\n",
    "                                               np.cos(theta[i] * np.pi/180))\n",
    "\n",
    "    return intensity"
   ]
  },
  {
   "cell_type": "markdown",
   "metadata": {},
   "source": [
    "# Simulation"
   ]
  },
  {
   "cell_type": "code",
   "execution_count": 13,
   "metadata": {},
   "outputs": [
    {
     "name": "stdout",
     "output_type": "stream",
     "text": [
      "Beginning Simulation...\n",
      "\n",
      "10000 photons (10.0%) transported.\n",
      "20000 photons (20.0%) transported.\n",
      "30000 photons (30.0%) transported.\n",
      "40000 photons (40.0%) transported.\n",
      "50000 photons (50.0%) transported.\n",
      "60000 photons (60.0%) transported.\n",
      "70000 photons (70.0%) transported.\n",
      "80000 photons (80.0%) transported.\n",
      "90000 photons (90.0%) transported.\n",
      "100000 photons (100.0%) transported.\n",
      "\n",
      "Transport of 100000 packets completed in 290.15 seconds.\n"
     ]
    }
   ],
   "source": [
    "print('Beginning Simulation...\\n')\n",
    "\n",
    "n_photons = int(10e4)\n",
    "mu_bins = 10\n",
    "tau_max = 10\n",
    "albedo = 1\n",
    "\n",
    "start = timeit.default_timer()\n",
    "\n",
    "mu = np.zeros(n_photons)\n",
    "phi = np.zeros(n_photons)\n",
    "for packet in range(n_photons):\n",
    "    photon_packet = Photon_Packet()\n",
    "    photon_packet._transport_packet(tau_max, albedo)\n",
    "    if photon_packet._escaped is True:\n",
    "        mu[packet] = photon_packet._costheta\n",
    "        phi[packet] = photon_packet._phi\n",
    "\n",
    "    if ((packet + 1) % 10000 == 0):\n",
    "        percent_complete = 100 * (packet + 1)/n_photons\n",
    "        print('{} photons ({:3.1f}%) transported.'\n",
    "              .format(packet + 1, percent_complete))\n",
    "\n",
    "mu_hist, theta = bin_photons(mu, mu_bins, n_photons)\n",
    "energy_absorbed = mu_hist/n_photons\n",
    "intensity = photon_moments(mu_bins, mu_hist, theta)\n",
    "\n",
    "stop = timeit.default_timer()\n",
    "\n",
    "print('\\nTransport of {} packets completed in {:3.2f} seconds.'\n",
    "      .format(n_photons, stop - start))"
   ]
  },
  {
   "cell_type": "markdown",
   "metadata": {},
   "source": [
    "# Plots"
   ]
  },
  {
   "cell_type": "code",
   "execution_count": 16,
   "metadata": {},
   "outputs": [
    {
     "data": {
      "image/png": "[encoded data removed]",
      "text/plain": [
       "<matplotlib.figure.Figure at 0x10f4fce48>"
      ]
     },
     "metadata": {},
     "output_type": "display_data"
    }
   ],
   "source": [
    "fig = plt.figure(figsize=(17, 8))\n",
    "\n",
    "# plot the intensity against angle\n",
    "ax1 = fig.add_subplot(121)\n",
    "ax1.plot(theta, intensity, 'kx')\n",
    "ax1.set_xlabel(r'Angle, $\\theta$')\n",
    "ax1.set_ylabel(r'Normalised Intensity')\n",
    "ax1.set_xlim(0, 90)\n",
    "\n",
    "# plot the energy absorbed against angle\n",
    "ax2 = fig.add_subplot(122)\n",
    "ax2.plot(theta, energy_absorbed, 'kx')\n",
    "ax2.set_xlabel(r'Angle, $\\theta$')\n",
    "ax2.set_ylabel(r'Energy Absorbed, $E_{abs}$')\n",
    "ax2.set_xlim(0, 90)\n",
    "\n",
    "plt.show()"
   ]
  },
  {
   "cell_type": "code",
   "execution_count": null,
   "metadata": {},
   "outputs": [],
   "source": []
  }
 ],
 "metadata": {
  "kernelspec": {
   "display_name": "Python 3",
   "language": "python",
   "name": "python3"
  },
  "language_info": {
   "codemirror_mode": {
    "name": "ipython",
    "version": 3
   },
   "file_extension": ".py",
   "mimetype": "text/x-python",
   "name": "python",
   "nbconvert_exporter": "python",
   "pygments_lexer": "ipython3",
   "version": "3.6.1"
  }
 },
 "nbformat": 4,
 "nbformat_minor": 2
}
